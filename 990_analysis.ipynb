{
 "cells": [
  {
   "cell_type": "code",
   "execution_count": 2,
   "metadata": {},
   "outputs": [],
   "source": [
    "from __future__ import division\n",
    "\n",
    "import numpy as np\n",
    "import pandas as pd\n",
    "import seaborn as sns\n",
    "import matplotlib.pyplot as plt\n",
    "color = sns.color_palette()\n",
    "\n",
    "import datetime\n",
    "import warnings\n",
    "warnings.filterwarnings(\"ignore\")\n",
    "\n",
    "from sklearn.feature_extraction.text import TfidfTransformer, TfidfVectorizer\n",
    "from sklearn.cluster import KMeans\n",
    "from sklearn.feature_extraction import text\n",
    "from nltk.corpus import stopwords\n",
    "import string\n",
    "\n",
    "%matplotlib inline"
   ]
  },
  {
   "cell_type": "code",
   "execution_count": 3,
   "metadata": {},
   "outputs": [],
   "source": [
    "# NTEE file import to DF\n",
    "df_ntee = pd.read_csv('NTEE_EINs_EOBMF.csv')\n"
   ]
  },
  {
   "cell_type": "code",
   "execution_count": 9,
   "metadata": {},
   "outputs": [],
   "source": [
    "# split NTEE letter and code\n",
    "letter = []\n",
    "code = []\n",
    "for i in df_ntee['NTEE'].values:\n",
    "    try:\n",
    "        letter.append(i[0])\n",
    "        code.append(i[1:-1])\n",
    "    except:\n",
    "        letter.append('Null')\n",
    "        code.append('Null')\n",
    "\n",
    "df_ntee['letter'], df_ntee['code'] = letter, code"
   ]
  },
  {
   "cell_type": "code",
   "execution_count": 10,
   "metadata": {},
   "outputs": [],
   "source": [
    "to_int = []\n",
    "for i in df_ntee['EIN'].values:\n",
    "    try:\n",
    "        to_int.append(int(i.replace(\"-\", \"\")))\n",
    "    except:\n",
    "        to_int.append(i)\n",
    "\n",
    "df_ntee.drop('EIN', axis=1)\n",
    "df_ntee['EIN'] = to_int"
   ]
  },
  {
   "cell_type": "code",
   "execution_count": 11,
   "metadata": {},
   "outputs": [
    {
     "data": {
      "text/html": [
       "<div>\n",
       "<style scoped>\n",
       "    .dataframe tbody tr th:only-of-type {\n",
       "        vertical-align: middle;\n",
       "    }\n",
       "\n",
       "    .dataframe tbody tr th {\n",
       "        vertical-align: top;\n",
       "    }\n",
       "\n",
       "    .dataframe thead th {\n",
       "        text-align: right;\n",
       "    }\n",
       "</style>\n",
       "<table border=\"1\" class=\"dataframe\">\n",
       "  <thead>\n",
       "    <tr style=\"text-align: right;\">\n",
       "      <th></th>\n",
       "      <th>EIN</th>\n",
       "      <th>NTEE</th>\n",
       "      <th>letter</th>\n",
       "      <th>code</th>\n",
       "    </tr>\n",
       "  </thead>\n",
       "  <tbody>\n",
       "    <tr>\n",
       "      <th>0</th>\n",
       "      <td>19818</td>\n",
       "      <td>NaN</td>\n",
       "      <td>Null</td>\n",
       "      <td>Null</td>\n",
       "    </tr>\n",
       "    <tr>\n",
       "      <th>1</th>\n",
       "      <td>29215</td>\n",
       "      <td>NaN</td>\n",
       "      <td>Null</td>\n",
       "      <td>Null</td>\n",
       "    </tr>\n",
       "    <tr>\n",
       "      <th>2</th>\n",
       "      <td>587764</td>\n",
       "      <td>X21</td>\n",
       "      <td>X</td>\n",
       "      <td>2</td>\n",
       "    </tr>\n",
       "    <tr>\n",
       "      <th>3</th>\n",
       "      <td>635913</td>\n",
       "      <td>X21</td>\n",
       "      <td>X</td>\n",
       "      <td>2</td>\n",
       "    </tr>\n",
       "    <tr>\n",
       "      <th>4</th>\n",
       "      <td>765634</td>\n",
       "      <td>X20</td>\n",
       "      <td>X</td>\n",
       "      <td>2</td>\n",
       "    </tr>\n",
       "  </tbody>\n",
       "</table>\n",
       "</div>"
      ],
      "text/plain": [
       "      EIN NTEE letter  code\n",
       "0   19818  NaN   Null  Null\n",
       "1   29215  NaN   Null  Null\n",
       "2  587764  X21      X     2\n",
       "3  635913  X21      X     2\n",
       "4  765634  X20      X     2"
      ]
     },
     "execution_count": 11,
     "metadata": {},
     "output_type": "execute_result"
    }
   ],
   "source": [
    "df_ntee.head()"
   ]
  },
  {
   "cell_type": "code",
   "execution_count": 12,
   "metadata": {},
   "outputs": [
    {
     "name": "stdout",
     "output_type": "stream",
     "text": [
      "NTEE that appear less than 2 times: 33.33%\n",
      "NTEE that appear less than 10 times: 66.05%\n",
      "NTEE that appear less than 50 times: 81.03%\n",
      "NTEE that appear less than 100 times: 85.78%\n",
      "NTEE that appear less than 500 times: 94.1%\n"
     ]
    },
    {
     "data": {
      "image/png": "[encoded data removed]",
      "text/plain": [
       "<Figure size 1152x720 with 1 Axes>"
      ]
     },
     "metadata": {
      "needs_background": "light"
     },
     "output_type": "display_data"
    }
   ],
   "source": [
    "ntee_counts = df_ntee.groupby('NTEE')['NTEE'].count()\n",
    "\n",
    "for i in [2, 10, 50, 100, 500]:\n",
    "    print('NTEE that appear less than {} times: {}%'.format(i, round((ntee_counts < i).mean() * 100, 2)))\n",
    "\n",
    "plt.figure(figsize=(16, 10))\n",
    "plt.hist(ntee_counts.values, bins=100, log=True)\n",
    "plt.xlabel('Number of times NTEE appeared', fontsize=15)\n",
    "plt.ylabel('log(Count)', fontsize=15)\n",
    "plt.show()"
   ]
  },
  {
   "cell_type": "code",
   "execution_count": 13,
   "metadata": {},
   "outputs": [
    {
     "data": {
      "text/plain": [
       "NTEE\n",
       "X20     65785\n",
       "X21     38270\n",
       "P20     37483\n",
       "T20     22831\n",
       "B82     21679\n",
       "        ...  \n",
       "J129        1\n",
       "J124        1\n",
       "J10         1\n",
       "J050        1\n",
       "000         1\n",
       "Name: NTEE, Length: 5541, dtype: int64"
      ]
     },
     "execution_count": 13,
     "metadata": {},
     "output_type": "execute_result"
    }
   ],
   "source": [
    "# NTEE counts in dataset\n",
    "ntee_counts.sort_values(ascending=False)"
   ]
  },
  {
   "cell_type": "code",
   "execution_count": 14,
   "metadata": {},
   "outputs": [
    {
     "data": {
      "text/plain": [
       "Text(0, 0.5, 'Count')"
      ]
     },
     "execution_count": 14,
     "metadata": {},
     "output_type": "execute_result"
    },
    {
     "data": {
      "image/png": "[encoded data removed]",
      "text/plain": [
       "<Figure size 1152x720 with 1 Axes>"
      ]
     },
     "metadata": {
      "needs_background": "light"
     },
     "output_type": "display_data"
    }
   ],
   "source": [
    "# NTEE letter counts\n",
    "letter_counts = df_ntee.groupby('letter')['letter'].count()\n",
    "\n",
    "plt.figure(figsize=(16, 10))\n",
    "sns.barplot(letter_counts.index, letter_counts.values)\n",
    "plt.xlabel('NTEE Letter', fontsize=15)\n",
    "plt.ylabel('Count', fontsize=15)"
   ]
  },
  {
   "cell_type": "code",
   "execution_count": 15,
   "metadata": {},
   "outputs": [
    {
     "data": {
      "text/plain": [
       "letter\n",
       "Null    637790\n",
       "X       156122\n",
       "B       149279\n",
       "P       119934\n",
       "A        94880\n",
       "T        93737\n",
       "N        88300\n",
       "S        58804\n",
       "O        47578\n",
       "E        39197\n",
       "D        32040\n",
       "L        25626\n",
       "W        24851\n",
       "C        23184\n",
       "Q        21910\n",
       "M        18180\n",
       "F        17612\n",
       "Y        14804\n",
       "K        13598\n",
       "J        13208\n",
       "G        12938\n",
       "I        12818\n",
       "Z         8780\n",
       "R         7288\n",
       "H         5622\n",
       "U         4729\n",
       "V         1542\n",
       "0           11\n",
       "c            3\n",
       "9            1\n",
       "8            1\n",
       "Name: letter, dtype: int64"
      ]
     },
     "execution_count": 15,
     "metadata": {},
     "output_type": "execute_result"
    }
   ],
   "source": [
    "# NTEE letter counts\n",
    "letter_counts.sort_values(ascending=False)"
   ]
  },
  {
   "cell_type": "code",
   "execution_count": 17,
   "metadata": {},
   "outputs": [],
   "source": [
    "df_desc = pd.read_csv(\"../Sample_Program_Service_Data.csv\", encoding=\"Windows-1252\")\n",
    "df_desc = df_desc.rename(columns={\"NAME\": \"orgName\", \"DBA\": \"activityDesc\", \"MISSION\": \"missionDesc\"})\n"
   ]
  },
  {
   "cell_type": "code",
   "execution_count": 19,
   "metadata": {},
   "outputs": [],
   "source": [
    "# import descriptions file, combine useful text features into df_text\n",
    "df_text = df_desc[['EIN', 'orgName','activityDesc','missionDesc','proj1Desc']]\n",
    "df_text[\"text_blob\"] = df_text[\"orgName\"] + df_text[\"activityDesc\"] + df_text[\"missionDesc\"] + df_text[\"proj1Desc\"]\n"
   ]
  },
  {
   "cell_type": "code",
   "execution_count": 20,
   "metadata": {},
   "outputs": [],
   "source": [
    "# filter for text values only\n",
    "df_text = df_text[df_text['text_blob'].apply(type)==str]"
   ]
  },
  {
   "cell_type": "code",
   "execution_count": 21,
   "metadata": {},
   "outputs": [],
   "source": [
    "# cluster text with tf-idf and k-means\n",
    "# tune max_df (document frequency): low values mean low overlap between clusters\n",
    "def clusters_tfidf(df, feature, clusters_count = 25, num_terms = 10):\n",
    "    vect = TfidfVectorizer(max_df = 0.02, max_features = None,\n",
    "                                 stop_words = text.ENGLISH_STOP_WORDS.union(string.punctuation),\n",
    "                                 use_idf = True, tokenizer = None, ngram_range=(1, 1))\n",
    "    matrix = vect.fit_transform(df[feature]) \n",
    "    terms = vect.get_feature_names()\n",
    "    km = KMeans(n_clusters = clusters_count, random_state=0)\n",
    "    km.fit(matrix)\n",
    "    clusters = km.labels_.tolist()\n",
    "    order_centroids = km.cluster_centers_.argsort()[:, ::-1]\n",
    "    store = []\n",
    "    for i in range(clusters_count):\n",
    "        cluster_num = \"Cluster %d:\" % (i + 1)\n",
    "        topics = ', '.join([terms[ind] for ind in order_centroids[i, :num_terms]])\n",
    "        cluster_topics = cluster_num + ' ' + topics\n",
    "        store.append(cluster_topics)\n",
    "    return store"
   ]
  },
  {
   "cell_type": "code",
   "execution_count": 22,
   "metadata": {},
   "outputs": [],
   "source": [
    "# e.g. for 10 clusters and 10 terms:"
   ]
  },
  {
   "cell_type": "code",
   "execution_count": 23,
   "metadata": {},
   "outputs": [],
   "source": [
    "# e.g. 25 clusters and 15 terms:"
   ]
  },
  {
   "cell_type": "code",
   "execution_count": 24,
   "metadata": {},
   "outputs": [],
   "source": [
    "df_merged = pd.merge(df_text, df_ntee, on='EIN', how='inner')"
   ]
  },
  {
   "cell_type": "code",
   "execution_count": 25,
   "metadata": {},
   "outputs": [],
   "source": [
    "ntee_dict = { \n",
    "'B':[4],\n",
    "'C':[12, 13, 14, 15, 16],\n",
    "'F':[3],\n",
    "'G':[3],\n",
    "'H':[3],\n",
    "'J':[8],\n",
    "'K':[2],\n",
    "'L':[1]}"
   ]
  },
  {
   "cell_type": "code",
   "execution_count": 26,
   "metadata": {},
   "outputs": [],
   "source": [
    "sdg = []\n",
    "for i in df_merged['letter'].values:\n",
    "    try:\n",
    "        sdg.append(ntee_dict[i])\n",
    "    except:\n",
    "        sdg.append([0])"
   ]
  },
  {
   "cell_type": "code",
   "execution_count": 27,
   "metadata": {},
   "outputs": [],
   "source": [
    "df_merged['SDG'] = sdg"
   ]
  },
  {
   "cell_type": "code",
   "execution_count": 28,
   "metadata": {},
   "outputs": [],
   "source": [
    "from sklearn.preprocessing import MultiLabelBinarizer\n",
    "y = df_merged.SDG\n",
    "mlb = MultiLabelBinarizer()\n",
    "y = mlb.fit_transform(y)"
   ]
  },
  {
   "cell_type": "code",
   "execution_count": 29,
   "metadata": {},
   "outputs": [
    {
     "data": {
      "text/plain": [
       "array([ 0,  1,  2,  3,  4,  8, 12, 13, 14, 15, 16])"
      ]
     },
     "execution_count": 29,
     "metadata": {},
     "output_type": "execute_result"
    }
   ],
   "source": [
    "mlb.classes_"
   ]
  },
  {
   "cell_type": "code",
   "execution_count": 30,
   "metadata": {},
   "outputs": [],
   "source": [
    "SDG_dict = {0:\"0: Unassigned\",\n",
    "            1:\"1: No Poverty\", \n",
    "            2:\"2: Zero Hunger\",\n",
    "            3:\"3: Good Health and Well-being\",\n",
    "            4:\"4: Quality Education\",\n",
    "            5:\"5: Gender Equality\",\n",
    "            6:\"6: Clean Water and Sanitation\",\n",
    "            7:\"7: Affordable and Clean Energy\",\n",
    "            8:\"8: Decent Work and Economic Growth\",\n",
    "            9:\"9: Industry, Innovation, and Infrastructure\",\n",
    "            10:\"10: Reduced Inequalities\",\n",
    "            11:\"11: Sustainable Cities and Communities\",\n",
    "            12:\"12: Responsible Consumption and Production\",\n",
    "            13:\"13: Climate Action\",\n",
    "            14:\"14: Life Below Water\",\n",
    "            15:\"15: Life on Land\",\n",
    "            16:\"16: Peace, Justice, and Strong Institutions\",\n",
    "            17:\"17: Partnerships for the Goals\"}"
   ]
  },
  {
   "cell_type": "code",
   "execution_count": 31,
   "metadata": {},
   "outputs": [
    {
     "data": {
      "text/plain": [
       "<matplotlib.axes._subplots.AxesSubplot at 0x11f1cd4a8>"
      ]
     },
     "execution_count": 31,
     "metadata": {},
     "output_type": "execute_result"
    },
    {
     "data": {
      "image/png": "[encoded data removed]",
      "text/plain": [
       "<Figure size 1080x432 with 1 Axes>"
      ]
     },
     "metadata": {
      "needs_background": "light"
     },
     "output_type": "display_data"
    }
   ],
   "source": [
    "plt.figure(figsize=(15, 6))\n",
    "plt.xticks(rotation='vertical', fontsize = 15)\n",
    "plt.title('Distribution of SDGs in Dataset', fontsize = 15)\n",
    "plt.ylabel('Number of Examples', fontsize = 15)\n",
    "plt.xlabel('SDG', fontsize = 15)\n",
    "sns.barplot([SDG_dict[int(i)] for i in list(mlb.classes_)], y.sum(axis=0))"
   ]
  },
  {
   "cell_type": "code",
   "execution_count": null,
   "metadata": {},
   "outputs": [],
   "source": []
  }
 ],
 "metadata": {
  "kernelspec": {
   "display_name": "Python 3",
   "language": "python",
   "name": "python3"
  },
  "language_info": {
   "codemirror_mode": {
    "name": "ipython",
    "version": 3
   },
   "file_extension": ".py",
   "mimetype": "text/x-python",
   "name": "python",
   "nbconvert_exporter": "python",
   "pygments_lexer": "ipython3",
   "version": "3.7.3"
  }
 },
 "nbformat": 4,
 "nbformat_minor": 1
}
