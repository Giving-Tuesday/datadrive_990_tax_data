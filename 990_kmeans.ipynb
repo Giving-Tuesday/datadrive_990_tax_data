{
 "cells": [
  {
   "cell_type": "code",
   "execution_count": 1,
   "metadata": {},
   "outputs": [
    {
     "name": "stderr",
     "output_type": "stream",
     "text": [
      "/Users/bcipollini/code/venv3/lib/python3.7/site-packages/statsmodels/tools/_testing.py:19: FutureWarning: pandas.util.testing is deprecated. Use the functions in the public API at pandas.testing instead.\n",
      "  import pandas.util.testing as tm\n"
     ]
    }
   ],
   "source": [
    "from __future__ import division\n",
    "\n",
    "import numpy as np\n",
    "import pandas as pd\n",
    "import seaborn as sns\n",
    "import matplotlib.pyplot as plt\n",
    "color = sns.color_palette()\n",
    "\n",
    "import datetime\n",
    "\n",
    "from sklearn.feature_extraction.text import TfidfTransformer, TfidfVectorizer\n",
    "from sklearn.cluster import KMeans\n",
    "from sklearn.feature_extraction import text\n",
    "from nltk.corpus import stopwords\n",
    "import string\n",
    "\n",
    "%matplotlib inline"
   ]
  },
  {
   "cell_type": "code",
   "execution_count": 6,
   "metadata": {},
   "outputs": [
    {
     "ename": "FileNotFoundError",
     "evalue": "[Errno 2] File NTEE_EINs.csv does not exist: 'NTEE_EINs.csv'",
     "output_type": "error",
     "traceback": [
      "\u001b[0;31m---------------------------------------------------------------------------\u001b[0m",
      "\u001b[0;31mFileNotFoundError\u001b[0m                         Traceback (most recent call last)",
      "\u001b[0;32m<ipython-input-6-812e3fbad5f0>\u001b[0m in \u001b[0;36m<module>\u001b[0;34m\u001b[0m\n\u001b[1;32m      1\u001b[0m \u001b[0;31m# NTEE file import to DF\u001b[0m\u001b[0;34m\u001b[0m\u001b[0;34m\u001b[0m\u001b[0;34m\u001b[0m\u001b[0m\n\u001b[0;32m----> 2\u001b[0;31m \u001b[0mdf_ntee\u001b[0m \u001b[0;34m=\u001b[0m \u001b[0mpd\u001b[0m\u001b[0;34m.\u001b[0m\u001b[0mread_csv\u001b[0m\u001b[0;34m(\u001b[0m\u001b[0;34m'NTEE_EINs.csv'\u001b[0m\u001b[0;34m,\u001b[0m \u001b[0mdelimiter\u001b[0m\u001b[0;34m=\u001b[0m\u001b[0;34m'|'\u001b[0m\u001b[0;34m)\u001b[0m\u001b[0;34m\u001b[0m\u001b[0;34m\u001b[0m\u001b[0m\n\u001b[0m\u001b[1;32m      3\u001b[0m \u001b[0mdf_ntee\u001b[0m\u001b[0;34m[\u001b[0m\u001b[0;34m'EIN'\u001b[0m\u001b[0;34m]\u001b[0m\u001b[0;34m,\u001b[0m \u001b[0mdf_ntee\u001b[0m\u001b[0;34m[\u001b[0m\u001b[0;34m'NTEE'\u001b[0m\u001b[0;34m]\u001b[0m \u001b[0;34m=\u001b[0m \u001b[0mdf_ntee\u001b[0m\u001b[0;34m[\u001b[0m\u001b[0;34m'EIN,\"NteeFinal\"'\u001b[0m\u001b[0;34m]\u001b[0m\u001b[0;34m.\u001b[0m\u001b[0mstr\u001b[0m\u001b[0;34m.\u001b[0m\u001b[0msplit\u001b[0m\u001b[0;34m(\u001b[0m\u001b[0;34m','\u001b[0m\u001b[0;34m,\u001b[0m\u001b[0;36m1\u001b[0m\u001b[0;34m)\u001b[0m\u001b[0;34m.\u001b[0m\u001b[0mstr\u001b[0m\u001b[0;34m\u001b[0m\u001b[0;34m\u001b[0m\u001b[0m\n\u001b[1;32m      4\u001b[0m \u001b[0mdf_ntee\u001b[0m \u001b[0;34m=\u001b[0m \u001b[0mdf_ntee\u001b[0m\u001b[0;34m.\u001b[0m\u001b[0mdrop\u001b[0m\u001b[0;34m(\u001b[0m\u001b[0;34m'EIN,\"NteeFinal\"'\u001b[0m\u001b[0;34m,\u001b[0m \u001b[0maxis\u001b[0m\u001b[0;34m=\u001b[0m\u001b[0;36m1\u001b[0m\u001b[0;34m)\u001b[0m\u001b[0;34m\u001b[0m\u001b[0;34m\u001b[0m\u001b[0m\n",
      "\u001b[0;32m~/opt/miniconda3/lib/python3.7/site-packages/pandas/io/parsers.py\u001b[0m in \u001b[0;36mparser_f\u001b[0;34m(filepath_or_buffer, sep, delimiter, header, names, index_col, usecols, squeeze, prefix, mangle_dupe_cols, dtype, engine, converters, true_values, false_values, skipinitialspace, skiprows, skipfooter, nrows, na_values, keep_default_na, na_filter, verbose, skip_blank_lines, parse_dates, infer_datetime_format, keep_date_col, date_parser, dayfirst, cache_dates, iterator, chunksize, compression, thousands, decimal, lineterminator, quotechar, quoting, doublequote, escapechar, comment, encoding, dialect, error_bad_lines, warn_bad_lines, delim_whitespace, low_memory, memory_map, float_precision)\u001b[0m\n\u001b[1;32m    674\u001b[0m         )\n\u001b[1;32m    675\u001b[0m \u001b[0;34m\u001b[0m\u001b[0m\n\u001b[0;32m--> 676\u001b[0;31m         \u001b[0;32mreturn\u001b[0m \u001b[0m_read\u001b[0m\u001b[0;34m(\u001b[0m\u001b[0mfilepath_or_buffer\u001b[0m\u001b[0;34m,\u001b[0m \u001b[0mkwds\u001b[0m\u001b[0;34m)\u001b[0m\u001b[0;34m\u001b[0m\u001b[0;34m\u001b[0m\u001b[0m\n\u001b[0m\u001b[1;32m    677\u001b[0m \u001b[0;34m\u001b[0m\u001b[0m\n\u001b[1;32m    678\u001b[0m     \u001b[0mparser_f\u001b[0m\u001b[0;34m.\u001b[0m\u001b[0m__name__\u001b[0m \u001b[0;34m=\u001b[0m \u001b[0mname\u001b[0m\u001b[0;34m\u001b[0m\u001b[0;34m\u001b[0m\u001b[0m\n",
      "\u001b[0;32m~/opt/miniconda3/lib/python3.7/site-packages/pandas/io/parsers.py\u001b[0m in \u001b[0;36m_read\u001b[0;34m(filepath_or_buffer, kwds)\u001b[0m\n\u001b[1;32m    446\u001b[0m \u001b[0;34m\u001b[0m\u001b[0m\n\u001b[1;32m    447\u001b[0m     \u001b[0;31m# Create the parser.\u001b[0m\u001b[0;34m\u001b[0m\u001b[0;34m\u001b[0m\u001b[0;34m\u001b[0m\u001b[0m\n\u001b[0;32m--> 448\u001b[0;31m     \u001b[0mparser\u001b[0m \u001b[0;34m=\u001b[0m \u001b[0mTextFileReader\u001b[0m\u001b[0;34m(\u001b[0m\u001b[0mfp_or_buf\u001b[0m\u001b[0;34m,\u001b[0m \u001b[0;34m**\u001b[0m\u001b[0mkwds\u001b[0m\u001b[0;34m)\u001b[0m\u001b[0;34m\u001b[0m\u001b[0;34m\u001b[0m\u001b[0m\n\u001b[0m\u001b[1;32m    449\u001b[0m \u001b[0;34m\u001b[0m\u001b[0m\n\u001b[1;32m    450\u001b[0m     \u001b[0;32mif\u001b[0m \u001b[0mchunksize\u001b[0m \u001b[0;32mor\u001b[0m \u001b[0miterator\u001b[0m\u001b[0;34m:\u001b[0m\u001b[0;34m\u001b[0m\u001b[0;34m\u001b[0m\u001b[0m\n",
      "\u001b[0;32m~/opt/miniconda3/lib/python3.7/site-packages/pandas/io/parsers.py\u001b[0m in \u001b[0;36m__init__\u001b[0;34m(self, f, engine, **kwds)\u001b[0m\n\u001b[1;32m    878\u001b[0m             \u001b[0mself\u001b[0m\u001b[0;34m.\u001b[0m\u001b[0moptions\u001b[0m\u001b[0;34m[\u001b[0m\u001b[0;34m\"has_index_names\"\u001b[0m\u001b[0;34m]\u001b[0m \u001b[0;34m=\u001b[0m \u001b[0mkwds\u001b[0m\u001b[0;34m[\u001b[0m\u001b[0;34m\"has_index_names\"\u001b[0m\u001b[0;34m]\u001b[0m\u001b[0;34m\u001b[0m\u001b[0;34m\u001b[0m\u001b[0m\n\u001b[1;32m    879\u001b[0m \u001b[0;34m\u001b[0m\u001b[0m\n\u001b[0;32m--> 880\u001b[0;31m         \u001b[0mself\u001b[0m\u001b[0;34m.\u001b[0m\u001b[0m_make_engine\u001b[0m\u001b[0;34m(\u001b[0m\u001b[0mself\u001b[0m\u001b[0;34m.\u001b[0m\u001b[0mengine\u001b[0m\u001b[0;34m)\u001b[0m\u001b[0;34m\u001b[0m\u001b[0;34m\u001b[0m\u001b[0m\n\u001b[0m\u001b[1;32m    881\u001b[0m \u001b[0;34m\u001b[0m\u001b[0m\n\u001b[1;32m    882\u001b[0m     \u001b[0;32mdef\u001b[0m \u001b[0mclose\u001b[0m\u001b[0;34m(\u001b[0m\u001b[0mself\u001b[0m\u001b[0;34m)\u001b[0m\u001b[0;34m:\u001b[0m\u001b[0;34m\u001b[0m\u001b[0;34m\u001b[0m\u001b[0m\n",
      "\u001b[0;32m~/opt/miniconda3/lib/python3.7/site-packages/pandas/io/parsers.py\u001b[0m in \u001b[0;36m_make_engine\u001b[0;34m(self, engine)\u001b[0m\n\u001b[1;32m   1112\u001b[0m     \u001b[0;32mdef\u001b[0m \u001b[0m_make_engine\u001b[0m\u001b[0;34m(\u001b[0m\u001b[0mself\u001b[0m\u001b[0;34m,\u001b[0m \u001b[0mengine\u001b[0m\u001b[0;34m=\u001b[0m\u001b[0;34m\"c\"\u001b[0m\u001b[0;34m)\u001b[0m\u001b[0;34m:\u001b[0m\u001b[0;34m\u001b[0m\u001b[0;34m\u001b[0m\u001b[0m\n\u001b[1;32m   1113\u001b[0m         \u001b[0;32mif\u001b[0m \u001b[0mengine\u001b[0m \u001b[0;34m==\u001b[0m \u001b[0;34m\"c\"\u001b[0m\u001b[0;34m:\u001b[0m\u001b[0;34m\u001b[0m\u001b[0;34m\u001b[0m\u001b[0m\n\u001b[0;32m-> 1114\u001b[0;31m             \u001b[0mself\u001b[0m\u001b[0;34m.\u001b[0m\u001b[0m_engine\u001b[0m \u001b[0;34m=\u001b[0m \u001b[0mCParserWrapper\u001b[0m\u001b[0;34m(\u001b[0m\u001b[0mself\u001b[0m\u001b[0;34m.\u001b[0m\u001b[0mf\u001b[0m\u001b[0;34m,\u001b[0m \u001b[0;34m**\u001b[0m\u001b[0mself\u001b[0m\u001b[0;34m.\u001b[0m\u001b[0moptions\u001b[0m\u001b[0;34m)\u001b[0m\u001b[0;34m\u001b[0m\u001b[0;34m\u001b[0m\u001b[0m\n\u001b[0m\u001b[1;32m   1115\u001b[0m         \u001b[0;32melse\u001b[0m\u001b[0;34m:\u001b[0m\u001b[0;34m\u001b[0m\u001b[0;34m\u001b[0m\u001b[0m\n\u001b[1;32m   1116\u001b[0m             \u001b[0;32mif\u001b[0m \u001b[0mengine\u001b[0m \u001b[0;34m==\u001b[0m \u001b[0;34m\"python\"\u001b[0m\u001b[0;34m:\u001b[0m\u001b[0;34m\u001b[0m\u001b[0;34m\u001b[0m\u001b[0m\n",
      "\u001b[0;32m~/opt/miniconda3/lib/python3.7/site-packages/pandas/io/parsers.py\u001b[0m in \u001b[0;36m__init__\u001b[0;34m(self, src, **kwds)\u001b[0m\n\u001b[1;32m   1889\u001b[0m         \u001b[0mkwds\u001b[0m\u001b[0;34m[\u001b[0m\u001b[0;34m\"usecols\"\u001b[0m\u001b[0;34m]\u001b[0m \u001b[0;34m=\u001b[0m \u001b[0mself\u001b[0m\u001b[0;34m.\u001b[0m\u001b[0musecols\u001b[0m\u001b[0;34m\u001b[0m\u001b[0;34m\u001b[0m\u001b[0m\n\u001b[1;32m   1890\u001b[0m \u001b[0;34m\u001b[0m\u001b[0m\n\u001b[0;32m-> 1891\u001b[0;31m         \u001b[0mself\u001b[0m\u001b[0;34m.\u001b[0m\u001b[0m_reader\u001b[0m \u001b[0;34m=\u001b[0m \u001b[0mparsers\u001b[0m\u001b[0;34m.\u001b[0m\u001b[0mTextReader\u001b[0m\u001b[0;34m(\u001b[0m\u001b[0msrc\u001b[0m\u001b[0;34m,\u001b[0m \u001b[0;34m**\u001b[0m\u001b[0mkwds\u001b[0m\u001b[0;34m)\u001b[0m\u001b[0;34m\u001b[0m\u001b[0;34m\u001b[0m\u001b[0m\n\u001b[0m\u001b[1;32m   1892\u001b[0m         \u001b[0mself\u001b[0m\u001b[0;34m.\u001b[0m\u001b[0munnamed_cols\u001b[0m \u001b[0;34m=\u001b[0m \u001b[0mself\u001b[0m\u001b[0;34m.\u001b[0m\u001b[0m_reader\u001b[0m\u001b[0;34m.\u001b[0m\u001b[0munnamed_cols\u001b[0m\u001b[0;34m\u001b[0m\u001b[0;34m\u001b[0m\u001b[0m\n\u001b[1;32m   1893\u001b[0m \u001b[0;34m\u001b[0m\u001b[0m\n",
      "\u001b[0;32mpandas/_libs/parsers.pyx\u001b[0m in \u001b[0;36mpandas._libs.parsers.TextReader.__cinit__\u001b[0;34m()\u001b[0m\n",
      "\u001b[0;32mpandas/_libs/parsers.pyx\u001b[0m in \u001b[0;36mpandas._libs.parsers.TextReader._setup_parser_source\u001b[0;34m()\u001b[0m\n",
      "\u001b[0;31mFileNotFoundError\u001b[0m: [Errno 2] File NTEE_EINs.csv does not exist: 'NTEE_EINs.csv'"
     ]
    }
   ],
   "source": [
    "# NTEE file import to DF\n",
    "df_ntee = pd.read_csv('NTEE_EINs.csv', delimiter='|')\n",
    "df_ntee['EIN'], df_ntee['NTEE'] = df_ntee['EIN,\"NteeFinal\"'].str.split(',',1).str\n",
    "df_ntee = df_ntee.drop('EIN,\"NteeFinal\"', axis=1)"
   ]
  },
  {
   "cell_type": "code",
   "execution_count": 3,
   "metadata": {},
   "outputs": [
    {
     "ename": "NameError",
     "evalue": "name 'df_ntee' is not defined",
     "output_type": "error",
     "traceback": [
      "\u001b[0;31m---------------------------------------------------------------------------\u001b[0m",
      "\u001b[0;31mNameError\u001b[0m                                 Traceback (most recent call last)",
      "\u001b[0;32m<ipython-input-3-e76079a7b171>\u001b[0m in \u001b[0;36m<module>\u001b[0;34m\u001b[0m\n\u001b[1;32m      2\u001b[0m \u001b[0mletter\u001b[0m \u001b[0;34m=\u001b[0m \u001b[0;34m[\u001b[0m\u001b[0;34m]\u001b[0m\u001b[0;34m\u001b[0m\u001b[0;34m\u001b[0m\u001b[0m\n\u001b[1;32m      3\u001b[0m \u001b[0mcode\u001b[0m \u001b[0;34m=\u001b[0m \u001b[0;34m[\u001b[0m\u001b[0;34m]\u001b[0m\u001b[0;34m\u001b[0m\u001b[0;34m\u001b[0m\u001b[0m\n\u001b[0;32m----> 4\u001b[0;31m \u001b[0;32mfor\u001b[0m \u001b[0mi\u001b[0m \u001b[0;32min\u001b[0m \u001b[0mdf_ntee\u001b[0m\u001b[0;34m[\u001b[0m\u001b[0;34m'NTEE'\u001b[0m\u001b[0;34m]\u001b[0m\u001b[0;34m.\u001b[0m\u001b[0mvalues\u001b[0m\u001b[0;34m:\u001b[0m\u001b[0;34m\u001b[0m\u001b[0;34m\u001b[0m\u001b[0m\n\u001b[0m\u001b[1;32m      5\u001b[0m     \u001b[0;32mtry\u001b[0m\u001b[0;34m:\u001b[0m\u001b[0;34m\u001b[0m\u001b[0;34m\u001b[0m\u001b[0m\n\u001b[1;32m      6\u001b[0m         \u001b[0mletter\u001b[0m\u001b[0;34m.\u001b[0m\u001b[0mappend\u001b[0m\u001b[0;34m(\u001b[0m\u001b[0mi\u001b[0m\u001b[0;34m[\u001b[0m\u001b[0;36m1\u001b[0m\u001b[0;34m]\u001b[0m\u001b[0;34m)\u001b[0m\u001b[0;34m\u001b[0m\u001b[0;34m\u001b[0m\u001b[0m\n",
      "\u001b[0;31mNameError\u001b[0m: name 'df_ntee' is not defined"
     ]
    }
   ],
   "source": [
    "# split NTEE letter and code\n",
    "letter = []\n",
    "code = []\n",
    "for i in df_ntee['NTEE'].values:\n",
    "    try:\n",
    "        letter.append(i[1])\n",
    "        code.append(i[2:-1])\n",
    "    except:\n",
    "        letter.append('Null')\n",
    "        code.append('Null')\n",
    "\n",
    "df_ntee['letter'], df_ntee['code'] = letter, code"
   ]
  },
  {
   "cell_type": "code",
   "execution_count": 249,
   "metadata": {},
   "outputs": [],
   "source": [
    "to_int = []\n",
    "for i in df_ntee['EIN'].values:\n",
    "    try:\n",
    "        to_int.append(int(i))\n",
    "    except:\n",
    "        to_int.append(i)\n",
    "\n",
    "df_ntee.drop('EIN', axis=1)\n",
    "df_ntee['EIN'] = to_int"
   ]
  },
  {
   "cell_type": "code",
   "execution_count": 252,
   "metadata": {},
   "outputs": [
    {
     "data": {
      "text/html": [
       "<div>\n",
       "<table border=\"1\" class=\"dataframe\">\n",
       "  <thead>\n",
       "    <tr style=\"text-align: right;\">\n",
       "      <th></th>\n",
       "      <th>EIN</th>\n",
       "      <th>NTEE</th>\n",
       "      <th>letter</th>\n",
       "      <th>code</th>\n",
       "    </tr>\n",
       "  </thead>\n",
       "  <tbody>\n",
       "    <tr>\n",
       "      <th>0</th>\n",
       "      <td>1</td>\n",
       "      <td>\"B40\"</td>\n",
       "      <td>B</td>\n",
       "      <td>40</td>\n",
       "    </tr>\n",
       "    <tr>\n",
       "      <th>1</th>\n",
       "      <td>4</td>\n",
       "      <td>\"B90\"</td>\n",
       "      <td>B</td>\n",
       "      <td>90</td>\n",
       "    </tr>\n",
       "    <tr>\n",
       "      <th>2</th>\n",
       "      <td>5</td>\n",
       "      <td>\"A50\"</td>\n",
       "      <td>A</td>\n",
       "      <td>50</td>\n",
       "    </tr>\n",
       "    <tr>\n",
       "      <th>3</th>\n",
       "      <td>2704</td>\n",
       "      <td>\"Z99\"</td>\n",
       "      <td>Z</td>\n",
       "      <td>99</td>\n",
       "    </tr>\n",
       "    <tr>\n",
       "      <th>4</th>\n",
       "      <td>3154</td>\n",
       "      <td>\"C36\"</td>\n",
       "      <td>C</td>\n",
       "      <td>36</td>\n",
       "    </tr>\n",
       "  </tbody>\n",
       "</table>\n",
       "</div>"
      ],
      "text/plain": [
       "    EIN   NTEE letter code\n",
       "0     1  \"B40\"      B   40\n",
       "1     4  \"B90\"      B   90\n",
       "2     5  \"A50\"      A   50\n",
       "3  2704  \"Z99\"      Z   99\n",
       "4  3154  \"C36\"      C   36"
      ]
     },
     "execution_count": 252,
     "metadata": {},
     "output_type": "execute_result"
    }
   ],
   "source": [
    "df_ntee.head()"
   ]
  },
  {
   "cell_type": "code",
   "execution_count": 212,
   "metadata": {},
   "outputs": [
    {
     "name": "stdout",
     "output_type": "stream",
     "text": [
      "NTEE that appear less than 2 times: 15.45%\n",
      "NTEE that appear less than 10 times: 45.76%\n",
      "NTEE that appear less than 50 times: 66.57%\n",
      "NTEE that appear less than 100 times: 73.98%\n",
      "NTEE that appear less than 500 times: 85.07%\n"
     ]
    },
    {
     "data": {
      "image/png": "[encoded data removed]",
      "text/plain": [
       "<matplotlib.figure.Figure at 0x1775c7cd0>"
      ]
     },
     "metadata": {},
     "output_type": "display_data"
    }
   ],
   "source": [
    "ntee_counts = df_ntee.groupby('NTEE')['NTEE'].count()\n",
    "\n",
    "for i in [2, 10, 50, 100, 500]:\n",
    "    print('NTEE that appear less than {} times: {}%'.format(i, round((ntee_counts < i).mean() * 100, 2)))\n",
    "\n",
    "plt.figure(figsize=(16, 10))\n",
    "plt.hist(ntee_counts.values, bins=100, log=True)\n",
    "plt.xlabel('Number of times NTEE appeared', fontsize=15)\n",
    "plt.ylabel('log(Count)', fontsize=15)\n",
    "plt.show()"
   ]
  },
  {
   "cell_type": "code",
   "execution_count": 198,
   "metadata": {},
   "outputs": [
    {
     "data": {
      "text/plain": [
       "NTEE\n",
       "\"X20\"      110397\n",
       "\"X21\"       94247\n",
       "\"T20\"       70266\n",
       "\"W30\"       59506\n",
       "\"T90\"       48406\n",
       "\"Z99\"       48071\n",
       "\"S80\"       47153\n",
       "\"B94\"       46767\n",
       "\"T99\"       44489\n",
       "\"J40\"       43032\n",
       "\"N50\"       41993\n",
       "\"Y41\"       38996\n",
       "\"B83\"       36823\n",
       "\"N60\"       29959\n",
       "\"T22\"       28711\n",
       "\"B82\"       26358\n",
       "\"S20\"       25647\n",
       "\"O50\"       25238\n",
       "\"Y42\"       23451\n",
       "\"B11\"       23280\n",
       "\"S41\"       22316\n",
       "\"P20\"       21921\n",
       "\"A23\"       18923\n",
       "\"M24\"       18541\n",
       "\"Y40\"       18514\n",
       "\"D20\"       17916\n",
       "\"N63\"       17335\n",
       "\"B03\"       17319\n",
       "\"B99\"       16494\n",
       "\"A80\"       15217\n",
       "            ...  \n",
       "\"G0230\"         1\n",
       "\"G0161\"         1\n",
       "\"G0144\"         1\n",
       "\"S1231\"         1\n",
       "\"S1243\"         1\n",
       "\"S1282\"         1\n",
       "\"S1943\"         1\n",
       "\"F1980\"         1\n",
       "\"F1960\"         1\n",
       "\"G0398\"         1\n",
       "\"G0543\"         1\n",
       "\"G0580\"         1\n",
       "\"G1925\"         1\n",
       "\"G1950\"         1\n",
       "\"G1948\"         1\n",
       "\"G1943\"         1\n",
       "\"G1942\"         1\n",
       "\"G1941\"         1\n",
       "\"G1940\"         1\n",
       "\"G1932\"         1\n",
       "\"G1294\"         1\n",
       "\"G0590\"         1\n",
       "\"G1250\"         1\n",
       "\"G1245\"         1\n",
       "\"G1244\"         1\n",
       "\"G1240\"         1\n",
       "\"S1150\"         1\n",
       "\"G1192\"         1\n",
       "\"G1160\"         1\n",
       "\"G0361\"         1\n",
       "Name: NTEE, dtype: int64"
      ]
     },
     "execution_count": 198,
     "metadata": {},
     "output_type": "execute_result"
    }
   ],
   "source": [
    "# NTEE counts in dataset\n",
    "ntee_counts.sort_values(ascending=False)"
   ]
  },
  {
   "cell_type": "code",
   "execution_count": 213,
   "metadata": {},
   "outputs": [
    {
     "data": {
      "text/plain": [
       "<matplotlib.text.Text at 0x15b1a8c90>"
      ]
     },
     "execution_count": 213,
     "metadata": {},
     "output_type": "execute_result"
    },
    {
     "data": {
      "image/png": "[encoded data removed]",
      "text/plain": [
       "<matplotlib.figure.Figure at 0x15ef21590>"
      ]
     },
     "metadata": {},
     "output_type": "display_data"
    }
   ],
   "source": [
    "# NTEE letter counts\n",
    "letter_counts = df_ntee.groupby('letter')['letter'].count()\n",
    "\n",
    "plt.figure(figsize=(16, 10))\n",
    "sns.barplot(letter_counts.index, letter_counts.values)\n",
    "plt.xlabel('NTEE Letter', fontsize=15)\n",
    "plt.ylabel('Count', fontsize=15)"
   ]
  },
  {
   "cell_type": "code",
   "execution_count": 200,
   "metadata": {},
   "outputs": [
    {
     "data": {
      "text/plain": [
       "letter\n",
       "B       261583\n",
       "X       245722\n",
       "T       220758\n",
       "N       173817\n",
       "S       171821\n",
       "A       151070\n",
       "P       126224\n",
       "Y       104527\n",
       "W        92172\n",
       "E        61942\n",
       "O        55351\n",
       "J        53051\n",
       "Z        48071\n",
       "L        42510\n",
       "G        42208\n",
       "C        39307\n",
       "M        31862\n",
       "D        27898\n",
       "Q        27777\n",
       "I        27166\n",
       "F        22261\n",
       "K        20287\n",
       "R        15789\n",
       "U        14705\n",
       "H         5560\n",
       "V         3185\n",
       "Null        74\n",
       "Name: letter, dtype: int64"
      ]
     },
     "execution_count": 200,
     "metadata": {},
     "output_type": "execute_result"
    }
   ],
   "source": [
    "# NTEE letter counts\n",
    "letter_counts.sort_values(ascending=False)"
   ]
  },
  {
   "cell_type": "code",
   "execution_count": 68,
   "metadata": {},
   "outputs": [
    {
     "name": "stderr",
     "output_type": "stream",
     "text": [
      "/Users/nickryan/anaconda/lib/python2.7/site-packages/ipykernel/__main__.py:1: SettingWithCopyWarning: \n",
      "A value is trying to be set on a copy of a slice from a DataFrame.\n",
      "Try using .loc[row_indexer,col_indexer] = value instead\n",
      "\n",
      "See the caveats in the documentation: http://pandas.pydata.org/pandas-docs/stable/indexing.html#indexing-view-versus-copy\n",
      "  if __name__ == '__main__':\n"
     ]
    }
   ],
   "source": [
    "# import descriptions file, combine useful text features into df_text\n",
    "df_desc = pd.read_csv(\"nonprofit-descriptions_2016.csv\", delimiter='|')\n",
    "df_text = df_desc[['EIN', 'orgName','activityDesc','missionDesc','proj1Desc']]\n",
    "df_text[\"text_blob\"] = df_text[\"orgName\"] + df_text[\"activityDesc\"] + df_text[\"missionDesc\"] + df_text[\"proj1Desc\"]\n"
   ]
  },
  {
   "cell_type": "code",
   "execution_count": 88,
   "metadata": {
    "collapsed": true
   },
   "outputs": [],
   "source": [
    "# filter for text values only\n",
    "df_text = df_text[df_text['text_blob'].apply(type)==str]"
   ]
  },
  {
   "cell_type": "code",
   "execution_count": 89,
   "metadata": {
    "collapsed": true
   },
   "outputs": [],
   "source": [
    "# cluster text with tf-idf and k-means\n",
    "# tune max_df (document frequency): low values mean low overlap between clusters\n",
    "def clusters_tfidf(df, feature, clusters_count = 25, num_terms = 10):\n",
    "    vect = TfidfVectorizer(max_df = 0.02, max_features = None,\n",
    "                                 stop_words = text.ENGLISH_STOP_WORDS.union(string.punctuation),\n",
    "                                 use_idf = True, tokenizer = None, ngram_range=(1, 1))\n",
    "    matrix = vect.fit_transform(df[feature]) \n",
    "    terms = vect.get_feature_names()\n",
    "    km = KMeans(n_clusters = clusters_count, random_state=0)\n",
    "    km.fit(matrix)\n",
    "    clusters = km.labels_.tolist()\n",
    "    order_centroids = km.cluster_centers_.argsort()[:, ::-1]\n",
    "    store = []\n",
    "    for i in range(clusters_count):\n",
    "        cluster_num = \"Cluster %d:\" % (i + 1)\n",
    "        topics = ', '.join([terms[ind] for ind in order_centroids[i, :num_terms]])\n",
    "        cluster_topics = cluster_num + ' ' + topics\n",
    "        store.append(cluster_topics)\n",
    "    return store"
   ]
  },
  {
   "cell_type": "code",
   "execution_count": 214,
   "metadata": {},
   "outputs": [
    {
     "data": {
      "text/plain": [
       "[u'Cluster 1: museum, historical, historic, preservation, exhibits, artifacts, heritage, collection, exhibitions, visitors',\n",
       " u'Cluster 2: library, needy, god, developmentally, jesus, rescue, protection, camp, preschool, ministries',\n",
       " u'Cluster 3: animals, animal, humane, spay, adoption, cats, dogs, neuter, pet, rescue',\n",
       " u'Cluster 4: theatre, performing, dance, performances, artists, theater, symphony, productions, performance, musical',\n",
       " u'Cluster 5: soccer, baseball, hockey, league, players, play, sportsmanship, little, teams, game',\n",
       " u'Cluster 6: charter, ymca, montessori, grades, mind, body, spirit, principles, kindergarten, strong',\n",
       " u'Cluster 7: girls, boys, productive, responsible, enable, character, clubs, especially, girl, inspire',\n",
       " u'Cluster 8: handicapped, hud, 202, apartment, rental, complex, subsidized, moderate, agreement, psychological',\n",
       " u'Cluster 9: cancer, violence, domestic, victims, sexual, assault, crisis, breast, survivors, intervention',\n",
       " u'Cluster 10: jewish, federation, israel, hillel, identity, torah, jews, orthodox, studies, metropolitan']"
      ]
     },
     "execution_count": 214,
     "metadata": {},
     "output_type": "execute_result"
    }
   ],
   "source": [
    "# e.g. for 10 clusters and 10 terms:"
   ]
  },
  {
   "cell_type": "code",
   "execution_count": 215,
   "metadata": {},
   "outputs": [
    {
     "data": {
      "text/plain": [
       "[u'Cluster 1: needy, athletic, scientific, scholarship, memorial, preschool, catholic, park, elementary, charities, hockey, grades, texas, council, welfare',\n",
       " u'Cluster 2: jesus, gospel, god, ministries, churches, bible, word, love, spread, biblical, faith, missions, pastors, missionaries, evangelism',\n",
       " u'Cluster 3: drug, alcohol, substance, recovery, addiction, men, outpatient, drugs, alcoholism, problems, dependency, recovering, chemical, behavioral, disorders',\n",
       " u'Cluster 4: violence, domestic, victims, sexual, assault, crisis, survivors, intervention, legal, rape, hotline, hour, victim, temporary, end',\n",
       " u'Cluster 5: museum, exhibits, historical, exhibitions, artifacts, collection, visitors, collections, historic, display, heritage, exhibition, hands, museums, tours',\n",
       " u'Cluster 6: hud, 202, apartment, rental, complex, subsidized, agreement, apartments, 811, urban, regulated, pursuant, tenants, rent, owns',\n",
       " u'Cluster 7: montessori, preschool, method, elementary, maria, philosophy, using, months, kindergarten, dr, principles, old, love, charter, schoolto',\n",
       " u'Cluster 8: legal, empower, therapy, crisis, behavioral, pregnancy, case, rights, poverty, justice, disadvantaged, vocational, policy, literacy, childhood',\n",
       " u'Cluster 9: historical, historic, preservation, heritage, artifacts, museum, restoration, buildings, tours, park, preserving, collect, sites, site, display',\n",
       " u'Cluster 10: soccer, players, competitive, play, game, teams, league, sport, sportsmanship, competition, coaches, tournaments, leagues, player, games',\n",
       " u'Cluster 11: moderate, rental, older, residences, 1961, originates, apartment, prices, equally, scope, subsidized, professionalism, thoughtful, decent, hud',\n",
       " u'Cluster 12: developmentally, vocational, mentally, appropriate, habilitation, delayed, challenged, physically, supervision, handicapped, retarded, intellectually, sheltered, preschool, workshop',\n",
       " u'Cluster 13: girls, baseball, boys, league, softball, little, responsible, productive, character, enable, clubs, girl, especially, inspire, sportsmanship',\n",
       " u'Cluster 14: handicapped, mentally, psychological, physically, specially, 202, usefulness, happiness, hud, apartment, longer, security, rental, complex, rent',\n",
       " u'Cluster 15: charter, grades, kindergarten, preparatory, rigorous, schoolto, prepare, achievement, elementary, schoolthe, florida, character, standards, succeed, eighth',\n",
       " u'Cluster 16: jewish, federation, israel, hillel, identity, torah, jews, orthodox, studies, metropolitan, secular, giving, chicago, judaism, carry',\n",
       " u'Cluster 17: mentally, hospice, ill, terminally, chronically, illness, physically, challenged, palliative, end, 811, bereavement, comfort, limiting, compassionate',\n",
       " u'Cluster 18: theatre, dance, performing, performances, artists, theater, symphony, productions, musical, performance, concerts, orchestra, ballet, theatrical, artistic',\n",
       " u'Cluster 19: camp, campers, camping, impairment, traumatic, mobility, brain, injury, accessible, camps, retreats, outdoor, retreat, round, recreation',\n",
       " u'Cluster 20: animals, animal, humane, spay, adoption, cats, neuter, pet, dogs, pets, abandoned, cruelty, rescue, unwanted, stray',\n",
       " u'Cluster 21: cancer, breast, cure, detection, pediatric, oncology, diagnosis, ovarian, affected, treatments, diagnosed, clinical, survivors, money, diseases',\n",
       " u'Cluster 22: rescue, ambulance, protection, squad, township, company, fighting, calls, town, dogs, ems, transport, firefighting, fires, response',\n",
       " u'Cluster 23: ymca, mind, body, spirit, principles, practice, strong, men, responsibility, kids, fitness, abilities, swim, camp, membership',\n",
       " u'Cluster 24: conservation, habitat, land, natural, wildlife, humanity, environmental, decent, water, protect, lands, river, trust, construction, watershed',\n",
       " u'Cluster 25: library, books, libraries, reading, librarypublic, libraryto, librarythe, periodicals, patrons, town, memorial, informational, literacy, lending, book']"
      ]
     },
     "execution_count": 215,
     "metadata": {},
     "output_type": "execute_result"
    }
   ],
   "source": [
    "# e.g. 25 clusters and 15 terms:"
   ]
  },
  {
   "cell_type": "code",
   "execution_count": 384,
   "metadata": {},
   "outputs": [],
   "source": [
    "df_merged = pd.merge(df_text, df_ntee, on='EIN', how='inner')"
   ]
  },
  {
   "cell_type": "code",
   "execution_count": 385,
   "metadata": {},
   "outputs": [],
   "source": [
    "ntee_dict = { \n",
    "'B':[4],\n",
    "'C':[12, 13, 14, 15, 16],\n",
    "'F':[3],\n",
    "'G':[3],\n",
    "'H':[3],\n",
    "'J':[8],\n",
    "'K':[2],\n",
    "'L':[1]}"
   ]
  },
  {
   "cell_type": "code",
   "execution_count": 386,
   "metadata": {},
   "outputs": [],
   "source": [
    "sdg = []\n",
    "for i in df_merged['letter'].values:\n",
    "    try:\n",
    "        sdg.append(ntee_dict[i])\n",
    "    except:\n",
    "        sdg.append([0])"
   ]
  },
  {
   "cell_type": "code",
   "execution_count": 387,
   "metadata": {},
   "outputs": [],
   "source": [
    "df_merged['SDG'] = sdg"
   ]
  },
  {
   "cell_type": "code",
   "execution_count": 388,
   "metadata": {},
   "outputs": [],
   "source": [
    "from sklearn.preprocessing import MultiLabelBinarizer\n",
    "y = df_merged.SDG\n",
    "mlb = MultiLabelBinarizer()\n",
    "y = mlb.fit_transform(y)"
   ]
  },
  {
   "cell_type": "code",
   "execution_count": 391,
   "metadata": {},
   "outputs": [
    {
     "data": {
      "text/plain": [
       "array([ 0,  1,  2,  3,  4,  8, 12, 13, 14, 15, 16])"
      ]
     },
     "execution_count": 391,
     "metadata": {},
     "output_type": "execute_result"
    }
   ],
   "source": [
    "mlb.classes_"
   ]
  },
  {
   "cell_type": "code",
   "execution_count": 393,
   "metadata": {},
   "outputs": [],
   "source": [
    "SDG_dict = {0:\"0: Unassigned\",\n",
    "            1:\"1: No Poverty\", \n",
    "            2:\"2: Zero Hunger\",\n",
    "            3:\"3: Good Health and Well-being\",\n",
    "            4:\"4: Quality Education\",\n",
    "            5:\"5: Gender Equality\",\n",
    "            6:\"6: Clean Water and Sanitation\",\n",
    "            7:\"7: Affordable and Clean Energy\",\n",
    "            8:\"8: Decent Work and Economic Growth\",\n",
    "            9:\"9: Industry, Innovation, and Infrastructure\",\n",
    "            10:\"10: Reduced Inequalities\",\n",
    "            11:\"11: Sustainable Cities and Communities\",\n",
    "            12:\"12: Responsible Consumption and Production\",\n",
    "            13:\"13: Climate Action\",\n",
    "            14:\"14: Life Below Water\",\n",
    "            15:\"15: Life on Land\",\n",
    "            16:\"16: Peace, Justice, and Strong Institutions\",\n",
    "            17:\"17: Partnerships for the Goals\"}"
   ]
  },
  {
   "cell_type": "code",
   "execution_count": 394,
   "metadata": {},
   "outputs": [
    {
     "data": {
      "text/plain": [
       "<matplotlib.axes._subplots.AxesSubplot at 0x15d8970d0>"
      ]
     },
     "execution_count": 394,
     "metadata": {},
     "output_type": "execute_result"
    },
    {
     "data": {
      "image/png": "[encoded data removed]",
      "text/plain": [
       "<matplotlib.figure.Figure at 0x15d897590>"
      ]
     },
     "metadata": {},
     "output_type": "display_data"
    }
   ],
   "source": [
    "plt.figure(figsize=(15, 6))\n",
    "plt.xticks(rotation='vertical', fontsize = 15)\n",
    "plt.title('Distribution of SDGs in Dataset', fontsize = 15)\n",
    "plt.ylabel('Number of Examples', fontsize = 15)\n",
    "plt.xlabel('SDG', fontsize = 15)\n",
    "sns.barplot([SDG_dict[int(i)] for i in list(mlb.classes_)], y.sum(axis=0))"
   ]
  }
 ],
 "metadata": {
  "kernelspec": {
   "display_name": "Python 3",
   "language": "python",
   "name": "python3"
  },
  "language_info": {
   "codemirror_mode": {
    "name": "ipython",
    "version": 3
   },
   "file_extension": ".py",
   "mimetype": "text/x-python",
   "name": "python",
   "nbconvert_exporter": "python",
   "pygments_lexer": "ipython3",
   "version": "3.7.3"
  }
 },
 "nbformat": 4,
 "nbformat_minor": 1
}
